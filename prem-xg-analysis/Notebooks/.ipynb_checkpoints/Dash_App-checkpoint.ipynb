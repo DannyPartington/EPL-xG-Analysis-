{
 "cells": [
  {
   "cell_type": "markdown",
   "id": "e1a29d37-518b-469e-bf4e-241f6219c3c6",
   "metadata": {},
   "source": [
    "### ⚽ Interactive xG Dashboard: Explore Team Performance Like Never Before\r\n",
    "In this notebook, we introduce a Dash web app designed to provide an interactive experience for exploring xG-based insights.\r\n",
    "Rather than relying on static tables and charts, this app enables real-time filtering, comparisons, and deeper analysis of team performances"
   ]
  },
  {
   "cell_type": "markdown",
   "id": "8bec1d3c-7f08-4a4b-b08e-c11f1846ec07",
   "metadata": {},
   "source": [
    "### 1️⃣ Import Required Libraries\n",
    "Import Dash along with Plotly:"
   ]
  },
  {
   "cell_type": "code",
   "execution_count": 1,
   "id": "0290ba82-1814-4618-8987-7727cda59e6f",
   "metadata": {},
   "outputs": [
    {
     "ename": "ModuleNotFoundError",
     "evalue": "No module named 'App_Functions'",
     "output_type": "error",
     "traceback": [
      "\u001b[1;31m---------------------------------------------------------------------------\u001b[0m",
      "\u001b[1;31mModuleNotFoundError\u001b[0m                       Traceback (most recent call last)",
      "Cell \u001b[1;32mIn[1], line 8\u001b[0m\n\u001b[0;32m      5\u001b[0m \u001b[38;5;28;01mimport\u001b[39;00m \u001b[38;5;21;01mplotly\u001b[39;00m\u001b[38;5;21;01m.\u001b[39;00m\u001b[38;5;21;01mexpress\u001b[39;00m \u001b[38;5;28;01mas\u001b[39;00m \u001b[38;5;21;01mpx\u001b[39;00m\n\u001b[0;32m      6\u001b[0m \u001b[38;5;28;01mimport\u001b[39;00m \u001b[38;5;21;01mplotly\u001b[39;00m\u001b[38;5;21;01m.\u001b[39;00m\u001b[38;5;21;01mgraph_objects\u001b[39;00m \u001b[38;5;28;01mas\u001b[39;00m \u001b[38;5;21;01mgo\u001b[39;00m\n\u001b[1;32m----> 8\u001b[0m \u001b[38;5;28;01mfrom\u001b[39;00m \u001b[38;5;21;01mApp_Functions\u001b[39;00m \u001b[38;5;28;01mimport\u001b[39;00m (\n\u001b[0;32m      9\u001b[0m     analyze_xg_vs_possession,\n\u001b[0;32m     10\u001b[0m     analyze_xg_vs_formation,\n\u001b[0;32m     11\u001b[0m     analyze_xg_vs_shots,\n\u001b[0;32m     12\u001b[0m     analyze_xg_vs_month,\n\u001b[0;32m     13\u001b[0m     analyze_xg_vs_time\n\u001b[0;32m     14\u001b[0m )\n",
      "\u001b[1;31mModuleNotFoundError\u001b[0m: No module named 'App_Functions'"
     ]
    }
   ],
   "source": [
    "import dash\n",
    "from dash import dcc, html\n",
    "from dash.dependencies import Input, Output\n",
    "import pandas as pd\n",
    "import plotly.express as px\n",
    "import plotly.graph_objects as go\n",
    "\n",
    "from App_Functions import (\n",
    "    analyze_xg_vs_possession,\n",
    "    analyze_xg_vs_formation,\n",
    "    analyze_xg_vs_shots,\n",
    "    analyze_xg_vs_month,\n",
    "    analyze_xg_vs_time\n",
    ")"
   ]
  },
  {
   "cell_type": "markdown",
   "id": "626e564b-e5ca-417d-8376-9b5bb2b71ec8",
   "metadata": {},
   "source": [
    "### 2️ Load the Dataset\n"
   ]
  },
  {
   "cell_type": "code",
   "execution_count": 23,
   "id": "fa5938dc-5978-4603-ab64-594a4635e0b4",
   "metadata": {},
   "outputs": [
    {
     "name": "stdout",
     "output_type": "stream",
     "text": [
      "['Arsenal', 'Aston Villa', 'Bournemouth', 'Brentford', 'Brighton', 'Burnley', 'Chelsea', 'Crystal Palace', 'Everton', 'Fulham', 'Liverpool', 'Luton Town', 'Manchester City', 'Manchester Utd', 'Newcastle Utd', \"Nott'ham Forest\", 'Sheffield Ud', 'Tottenham', 'West Ham', 'Wolves']\n"
     ]
    }
   ],
   "source": [
    "# Load dataset\n",
    "team_data = pd.read_csv('team_data.csv')\n",
    "\n",
    "# Get list of unique teams\n",
    "teams = sorted(team_data['Home'].unique())\n",
    "\n",
    "print(teams)"
   ]
  },
  {
   "cell_type": "markdown",
   "id": "6b880730-342f-4470-9df3-06196e61465a",
   "metadata": {},
   "source": [
    "### 4️⃣ Define the Dash App Layout\n",
    "This will create:\n",
    "\n",
    "A dropdown menu for selecting teams.\n",
    "Several div containers to display different charts."
   ]
  },
  {
   "cell_type": "code",
   "execution_count": 26,
   "id": "806d417a-aa67-434c-b3af-e9e3fea895ff",
   "metadata": {},
   "outputs": [],
   "source": [
    "app = dash.Dash(__name__)\n",
    "\n",
    "app.layout = html.Div([\n",
    "    html.H1(\"Premier League xG Analysis\", style={'textAlign': 'center'}),\n",
    "\n",
    "    # Team selection dropdown\n",
    "    html.Label(\"Select a Team:\"),\n",
    "    dcc.Dropdown(\n",
    "        id='team-selector',\n",
    "        options=[{'label': team, 'value': team} for team in teams],\n",
    "        value=teams[0],  # Default to first team\n",
    "        clearable=False\n",
    "    ),\n",
    "\n",
    "    html.Br(),\n",
    "\n",
    "    # Containers for each visualization\n",
    "    dcc.Graph(id='xg-vs-possession-home'),\n",
    "    dcc.Graph(id='xg-vs-possession-away'),\n",
    "    dcc.Graph(id='xg-vs-formation'),\n",
    "    dcc.Graph(id='xg-vs-shots'),\n",
    "    dcc.Graph(id='xg-vs-month'),\n",
    "    dcc.Graph(id='xg-vs-time'),\n",
    "])"
   ]
  },
  {
   "cell_type": "markdown",
   "id": "979dee67-22b7-4be6-beca-1df5ef33f310",
   "metadata": {},
   "source": [
    "### 5️⃣ Define Callback Functions\n",
    "Dash requires callback functions to dynamically update the charts based on the selected team."
   ]
  },
  {
   "cell_type": "code",
   "execution_count": 29,
   "id": "acd14179-8aaf-49d0-a714-bba86a8cda4a",
   "metadata": {},
   "outputs": [],
   "source": [
    "@app.callback(\n",
    "    Output('xg-vs-possession-home', 'figure'),\n",
    "    Output('xg-vs-possession-away', 'figure'),\n",
    "    Output('xg-vs-formation', 'figure'),\n",
    "    Output('xg-vs-shots', 'figure'),\n",
    "    Output('xg-vs-month', 'figure'),\n",
    "    Output('xg-vs-time', 'figure'),\n",
    "    Input('team-selector', 'value')\n",
    ")\n",
    "def update_charts(team):\n",
    "    fig1 = analyze_xg_vs_possession(team, team_data)\n",
    "    fig2 = analyze_xg_vs_formation(team, team_data)\n",
    "    fig3 = analyze_xg_vs_shots(team, team_data)\n",
    "    fig4 = analyze_xg_vs_month(team, team_data)\n",
    "    fig5 = analyze_xg_vs_time(team, team_data)\n",
    "\n",
    "    return fig1, fig2, fig3, fig4, fig5\n"
   ]
  },
  {
   "cell_type": "markdown",
   "id": "b2a16964-c21b-4368-8f5f-c55919150c36",
   "metadata": {},
   "source": [
    "### 6️⃣  Run the Dash App"
   ]
  },
  {
   "cell_type": "code",
   "execution_count": 32,
   "id": "3be12493-586e-45d2-90f8-aa016374c8dd",
   "metadata": {},
   "outputs": [
    {
     "data": {
      "text/html": [
       "\n",
       "        <iframe\n",
       "            width=\"100%\"\n",
       "            height=\"650\"\n",
       "            src=\"http://127.0.0.1:8050/\"\n",
       "            frameborder=\"0\"\n",
       "            allowfullscreen\n",
       "            \n",
       "        ></iframe>\n",
       "        "
      ],
      "text/plain": [
       "<IPython.lib.display.IFrame at 0x2a815c89f10>"
      ]
     },
     "metadata": {},
     "output_type": "display_data"
    }
   ],
   "source": [
    "if __name__ == '__main__':\n",
    "    app.run_server(debug=True)"
   ]
  },
  {
   "cell_type": "code",
   "execution_count": null,
   "id": "9fe38d87-865c-4e7e-9860-1d62f2cc331b",
   "metadata": {},
   "outputs": [],
   "source": []
  }
 ],
 "metadata": {
  "kernelspec": {
   "display_name": "Python 3 (ipykernel)",
   "language": "python",
   "name": "python3"
  },
  "language_info": {
   "codemirror_mode": {
    "name": "ipython",
    "version": 3
   },
   "file_extension": ".py",
   "mimetype": "text/x-python",
   "name": "python",
   "nbconvert_exporter": "python",
   "pygments_lexer": "ipython3",
   "version": "3.11.7"
  }
 },
 "nbformat": 4,
 "nbformat_minor": 5
}
