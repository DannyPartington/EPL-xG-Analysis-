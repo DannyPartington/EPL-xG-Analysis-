{
 "cells": [
  {
   "cell_type": "markdown",
   "id": "ad45ec11-4ff1-4e46-807a-e3bb1d0def3f",
   "metadata": {},
   "source": [
    "# ⚽ Expected vs. Reality: Is xG a True Predictor of Goals & Can Teams Use xG to Gain Tactical Insight?\n",
    "---\n",
    "\n",
    "## 📍 4) xG as a Performance Indicator\n",
    "### 🔍 Overview\n",
    "Now that we have confirmed xG as a **reliable measure**, the next step is to learn what insights we can draw evaluate whether **teams can use xG trends to assess performance and make tactical adjustments**."
   ]
  },
  {
   "cell_type": "code",
   "execution_count": null,
   "id": "fa1f4d2e-c5e4-4d69-8470-672a35d214cf",
   "metadata": {},
   "outputs": [],
   "source": []
  }
 ],
 "metadata": {
  "kernelspec": {
   "display_name": "Python 3 (ipykernel)",
   "language": "python",
   "name": "python3"
  },
  "language_info": {
   "codemirror_mode": {
    "name": "ipython",
    "version": 3
   },
   "file_extension": ".py",
   "mimetype": "text/x-python",
   "name": "python",
   "nbconvert_exporter": "python",
   "pygments_lexer": "ipython3",
   "version": "3.11.7"
  }
 },
 "nbformat": 4,
 "nbformat_minor": 5
}
