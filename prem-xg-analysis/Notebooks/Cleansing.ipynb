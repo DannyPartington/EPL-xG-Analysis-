{
 "cells": [
  {
   "cell_type": "markdown",
   "id": "7d38ff90-7ab9-41d9-a8e6-271beec4486c",
   "metadata": {},
   "source": [
    "# ⚽ Expected vs. Reality: Is xG a True Predictor of Goals & Can Teams Use it to Gain Tactical Insight?\n",
    "---\n"
   ]
  },
  {
   "cell_type": "markdown",
   "id": "e4120da5-5615-46b4-9403-57fbc801bac0",
   "metadata": {},
   "source": [
    "## 🧹 2) Data Cleansing \n",
    "---"
   ]
  },
  {
   "cell_type": "markdown",
   "id": "8f41f216-e527-4917-b8f4-4bf9a62943f7",
   "metadata": {},
   "source": [
    "### 📍 1. Import Libraries\n"
   ]
  },
  {
   "cell_type": "code",
   "execution_count": 123,
   "id": "b8bb64f0-59c6-4fbf-91a5-0cc08ac2c7b7",
   "metadata": {},
   "outputs": [],
   "source": [
    "import pandas as pd"
   ]
  },
  {
   "cell_type": "markdown",
   "id": "a4a02408-d823-46ab-9fe2-d7cc68403d59",
   "metadata": {},
   "source": [
    "### 📍 2. Load the Data\n"
   ]
  },
  {
   "cell_type": "code",
   "execution_count": 126,
   "id": "c3233e84-6a0b-4559-bd8c-12f5d9978f67",
   "metadata": {},
   "outputs": [
    {
     "name": "stdout",
     "output_type": "stream",
     "text": [
      "Raw Data Preview:\n"
     ]
    },
    {
     "data": {
      "text/html": [
       "<div>\n",
       "<style scoped>\n",
       "    .dataframe tbody tr th:only-of-type {\n",
       "        vertical-align: middle;\n",
       "    }\n",
       "\n",
       "    .dataframe tbody tr th {\n",
       "        vertical-align: top;\n",
       "    }\n",
       "\n",
       "    .dataframe thead th {\n",
       "        text-align: right;\n",
       "    }\n",
       "</style>\n",
       "<table border=\"1\" class=\"dataframe\">\n",
       "  <thead>\n",
       "    <tr style=\"text-align: right;\">\n",
       "      <th></th>\n",
       "      <th>Day</th>\n",
       "      <th>Date</th>\n",
       "      <th>Time</th>\n",
       "      <th>Home</th>\n",
       "      <th>xG</th>\n",
       "      <th>Score</th>\n",
       "      <th>xG.1</th>\n",
       "      <th>Away</th>\n",
       "    </tr>\n",
       "  </thead>\n",
       "  <tbody>\n",
       "    <tr>\n",
       "      <th>0</th>\n",
       "      <td>Fri</td>\n",
       "      <td>2023-08-11</td>\n",
       "      <td>20:00</td>\n",
       "      <td>Burnley</td>\n",
       "      <td>0.3</td>\n",
       "      <td>0–3</td>\n",
       "      <td>1.9</td>\n",
       "      <td>Manchester City</td>\n",
       "    </tr>\n",
       "    <tr>\n",
       "      <th>1</th>\n",
       "      <td>Sat</td>\n",
       "      <td>2023-08-12</td>\n",
       "      <td>12:30</td>\n",
       "      <td>Arsenal</td>\n",
       "      <td>0.8</td>\n",
       "      <td>2–1</td>\n",
       "      <td>1.2</td>\n",
       "      <td>Nott'ham Forest</td>\n",
       "    </tr>\n",
       "    <tr>\n",
       "      <th>2</th>\n",
       "      <td>Sat</td>\n",
       "      <td>2023-08-12</td>\n",
       "      <td>15:00</td>\n",
       "      <td>Everton</td>\n",
       "      <td>2.7</td>\n",
       "      <td>0–1</td>\n",
       "      <td>1.5</td>\n",
       "      <td>Fulham</td>\n",
       "    </tr>\n",
       "    <tr>\n",
       "      <th>3</th>\n",
       "      <td>Sat</td>\n",
       "      <td>2023-08-12</td>\n",
       "      <td>15:00</td>\n",
       "      <td>Sheffield Utd</td>\n",
       "      <td>0.5</td>\n",
       "      <td>0–1</td>\n",
       "      <td>1.9</td>\n",
       "      <td>Crystal Palace</td>\n",
       "    </tr>\n",
       "    <tr>\n",
       "      <th>4</th>\n",
       "      <td>Sat</td>\n",
       "      <td>2023-08-12</td>\n",
       "      <td>15:00</td>\n",
       "      <td>Brighton</td>\n",
       "      <td>4.0</td>\n",
       "      <td>4–1</td>\n",
       "      <td>1.5</td>\n",
       "      <td>Luton Town</td>\n",
       "    </tr>\n",
       "  </tbody>\n",
       "</table>\n",
       "</div>"
      ],
      "text/plain": [
       "   Day        Date   Time           Home   xG Score  xG.1             Away\n",
       "0  Fri  2023-08-11  20:00        Burnley  0.3   0–3   1.9  Manchester City\n",
       "1  Sat  2023-08-12  12:30        Arsenal  0.8   2–1   1.2  Nott'ham Forest\n",
       "2  Sat  2023-08-12  15:00        Everton  2.7   0–1   1.5           Fulham\n",
       "3  Sat  2023-08-12  15:00  Sheffield Utd  0.5   0–1   1.9   Crystal Palace\n",
       "4  Sat  2023-08-12  15:00       Brighton  4.0   4–1   1.5       Luton Town"
      ]
     },
     "metadata": {},
     "output_type": "display_data"
    }
   ],
   "source": [
    "# Load the raw Premier League xG dataset\n",
    "df = pd.read_csv(r'C:\\Users\\d_par\\OneDrive\\Desktop\\Danny\\2025\\Data Science\\Portolio Projects\\prem-xg-analysis\\Data\\premier-league-24.csv')\n",
    "\n",
    "#Print out a preview of the data to display the format\n",
    "print(\"Raw Data Preview:\")\n",
    "display(df.head())\n"
   ]
  },
  {
   "cell_type": "markdown",
   "id": "ccb3f34a-67b1-490b-bad6-dc58f0ba7f54",
   "metadata": {},
   "source": [
    "### 📍 3. Clean Column Names"
   ]
  },
  {
   "cell_type": "code",
   "execution_count": 129,
   "id": "c88291a9-c46c-46f1-8926-6e2bcbed61b8",
   "metadata": {},
   "outputs": [],
   "source": [
    "# Rename columns for clarity\n",
    "df.rename(columns={'xG': 'Home_xg', 'xG.1': 'Away_xg'}, inplace=True)"
   ]
  },
  {
   "cell_type": "markdown",
   "id": "d5714486-130e-43a9-b202-f7b8554a48b0",
   "metadata": {},
   "source": [
    "### 📍 4. Create 23/24 Rankings and Merge to Main Dataframe"
   ]
  },
  {
   "cell_type": "code",
   "execution_count": 143,
   "id": "382de090-f51c-4933-881b-cb74405585c8",
   "metadata": {},
   "outputs": [],
   "source": [
    "\n",
    "# Final league positions for each team\n",
    "rankings_data = {\n",
    "    'Ranking': range(1, 21),  # Assigns positions from 1 to 20\n",
    "    'Team': [\n",
    "        'Manchester City', 'Arsenal', 'Liverpool', 'Aston Villa', 'Tottenham', 'Chelsea', \n",
    "        'Newcastle Utd', 'Manchester Utd', 'West Ham', 'Crystal Palace', 'Brighton', 'Bournemouth', 'Fulham' , 'Wolves', 'Everton', 'Brentford',\n",
    "          'Nott\\'ham Forest', 'Luton Town', 'Burnley',  'Sheffield Utd'\n",
    "    ]\n",
    "}\n",
    "\n",
    "rankings_df = pd.DataFrame(rankings_data)\n",
    "\n",
    "# Save rankings for use in other scripts\n",
    "rankings_df.to_csv('Rankings.csv', index=False)\n",
    "\n",
    "\n",
    "# Merge rankings for Home team in fixtures\n",
    "df = df.merge(rankings_df, left_on='Home', right_on='Team', how='outer').rename(columns={'Ranking': 'Home Rank'})\n",
    "df.drop(columns=['Team'], inplace=True)\n",
    "\n",
    "# Merge rankings for Away team in fixtures\n",
    "df = df.merge(rankings_df, left_on='Away', right_on='Team', how='outer').rename(columns={'Ranking': 'Away Rank'})\n",
    "df.drop(columns=['Team'], inplace=True)\n",
    "\n",
    "\n",
    "#Add Points onto the Rankings for use further down the line\n",
    "rankings_df['Points'] = [91,89,82,68,66,63,60,60,52,49,48,48,47,46,40,39,32,26,24,16]\n",
    "\n",
    "# Save rankings for use in other scripts\n",
    "rankings_df.to_csv(r'C:\\Users\\d_par\\OneDrive\\Desktop\\Danny\\2025\\Data Science\\Portolio Projects\\prem-xg-analysis\\Data\\Rankings.csv', index=False)\n"
   ]
  },
  {
   "cell_type": "markdown",
   "id": "4b11441e-e126-4dca-af04-afcab659bf5d",
   "metadata": {},
   "source": [
    "### 📍 5. Handle Missing Values\n",
    "\n",
    "##### It became apparent the df had read in a number of redundant, empty rows. These are removed here."
   ]
  },
  {
   "cell_type": "code",
   "execution_count": 146,
   "id": "659398a3-b383-458f-ab65-a85a7f18de49",
   "metadata": {},
   "outputs": [],
   "source": [
    "# Identify and remove empty rows\n",
    "rows_with_nulls = df[df.isnull().any(axis=1)]\n",
    "\n",
    "# Display rows with missing data (commented out to not take up space)\n",
    "#display(rows_with_nulls) \n",
    "\n",
    "df.dropna(inplace=True)\n"
   ]
  },
  {
   "cell_type": "markdown",
   "id": "103e8952-bdce-468d-967a-f09995f88faf",
   "metadata": {},
   "source": [
    "### 📍 6. Process Score Column & Add New Collumns for Goals Scored and xG Error\n",
    "\n",
    "###### Here, xG Error is defined as xG - Goals. Meaning a positive 'Error' value indicates xG overestimates the number of goals scored, where as a negative value indicates xG underestimate the number of goals scored. "
   ]
  },
  {
   "cell_type": "code",
   "execution_count": 149,
   "id": "7cc63144-e833-43e0-bde4-b9a4c5a559c2",
   "metadata": {},
   "outputs": [],
   "source": [
    "\n",
    "# Split 'Score' column into Home and Away goals\n",
    "df[['Home_Goals', 'Away_Goals']] = df['Score'].str.split('–', expand=True)\n",
    "\n",
    "# Convert to integer dtype\n",
    "df['Home_Goals'] = df['Home_Goals'].astype(int)\n",
    "df['Away_Goals'] = df['Away_Goals'].astype(int)\n",
    "\n",
    "# Calculate xG Errors. \n",
    "# Difference between expected goals (xG) and actual goals\n",
    "df['Home xg error'] = df['Home_xg'] - df['Home_Goals']\n",
    "df['Away xg error'] = df['Away_xg'] - df['Away_Goals']\n",
    "\n",
    "\n",
    "#additional columns for total goals and xg error\n",
    "df['Total Goals'] = df['Home_Goals'] + df['Away_Goals']\n",
    "df['Total xG'] = df['Home_xg'] + df['Away_xg']\n",
    "df['xG - goals'] = (df['Total xG'] - df['Total Goals'])\n"
   ]
  },
  {
   "cell_type": "markdown",
   "id": "dc0187a0-1614-4286-9d3b-e339b95ff2b4",
   "metadata": {},
   "source": [
    "### 📍 7.  Save Cleaned Data"
   ]
  },
  {
   "cell_type": "code",
   "execution_count": 152,
   "id": "f2758957-1dfa-431d-968b-ccc5d9c50eae",
   "metadata": {},
   "outputs": [
    {
     "name": "stdout",
     "output_type": "stream",
     "text": [
      "Data cleaning complete. Cleaned data saved as 'cleaned_prem_data.csv'.\n"
     ]
    }
   ],
   "source": [
    "df.to_csv(r'C:\\Users\\d_par\\OneDrive\\Desktop\\Danny\\2025\\Data Science\\Portolio Projects\\prem-xg-analysis\\Data\\cleaned_prem_data.csv', index=False)\n",
    "\n",
    "print(\"Data cleaning complete. Cleaned data saved as 'cleaned_prem_data.csv'.\")\n"
   ]
  }
 ],
 "metadata": {
  "kernelspec": {
   "display_name": "Python 3 (ipykernel)",
   "language": "python",
   "name": "python3"
  },
  "language_info": {
   "codemirror_mode": {
    "name": "ipython",
    "version": 3
   },
   "file_extension": ".py",
   "mimetype": "text/x-python",
   "name": "python",
   "nbconvert_exporter": "python",
   "pygments_lexer": "ipython3",
   "version": "3.11.7"
  }
 },
 "nbformat": 4,
 "nbformat_minor": 5
}
